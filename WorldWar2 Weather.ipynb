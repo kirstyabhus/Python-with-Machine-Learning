{
 "cells": [
  {
   "cell_type": "code",
   "execution_count": 3,
   "metadata": {
    "colab": {
     "base_uri": "https://localhost:8080/"
    },
    "id": "Xv6cXvEfDW7h",
    "outputId": "35492e71-162b-44c5-c136-14ebcedaec8b"
   },
   "outputs": [],
   "source": [
    "# DATASET\n",
    "# https://www.kaggle.com/datasets/smid80/weatherww2?resource=download\n",
    "\n",
    "import matplotlib.pyplot as plt\n",
    "import pandas as pd\n",
    "import numpy as np\n",
    "from sklearn.model_selection import train_test_split\n",
    "from sklearn.linear_model import LinearRegression\n",
    "\n",
    "# Sklearn is a machinelearning library that will give us the ML model.\n",
    "# It's the most useful and robust library for machine learning in Python. \n",
    "# It provides a selection of efficient tools for machine learning and statistical\n",
    "# modeling including classification, regression, clustering and dimensionality reduction\n",
    "\n",
    "dataset = pd.read_csv(\"Summary of Weather.csv\")"
   ]
  },
  {
   "cell_type": "code",
   "execution_count": 4,
   "metadata": {
    "colab": {
     "base_uri": "https://localhost:8080/",
     "height": 661
    },
    "id": "HoWWVo0szxP9",
    "outputId": "5a7ea9ea-143c-420e-efbb-0da19d7c574c"
   },
   "outputs": [
    {
     "data": {
      "text/html": [
       "<div>\n",
       "<style scoped>\n",
       "    .dataframe tbody tr th:only-of-type {\n",
       "        vertical-align: middle;\n",
       "    }\n",
       "\n",
       "    .dataframe tbody tr th {\n",
       "        vertical-align: top;\n",
       "    }\n",
       "\n",
       "    .dataframe thead th {\n",
       "        text-align: right;\n",
       "    }\n",
       "</style>\n",
       "<table border=\"1\" class=\"dataframe\">\n",
       "  <thead>\n",
       "    <tr style=\"text-align: right;\">\n",
       "      <th></th>\n",
       "      <th>STA</th>\n",
       "      <th>Date</th>\n",
       "      <th>Precip</th>\n",
       "      <th>WindGustSpd</th>\n",
       "      <th>MaxTemp</th>\n",
       "      <th>MinTemp</th>\n",
       "      <th>MeanTemp</th>\n",
       "      <th>Snowfall</th>\n",
       "      <th>PoorWeather</th>\n",
       "      <th>YR</th>\n",
       "      <th>...</th>\n",
       "      <th>FB</th>\n",
       "      <th>FTI</th>\n",
       "      <th>ITH</th>\n",
       "      <th>PGT</th>\n",
       "      <th>TSHDSBRSGF</th>\n",
       "      <th>SD3</th>\n",
       "      <th>RHX</th>\n",
       "      <th>RHN</th>\n",
       "      <th>RVG</th>\n",
       "      <th>WTE</th>\n",
       "    </tr>\n",
       "  </thead>\n",
       "  <tbody>\n",
       "    <tr>\n",
       "      <th>0</th>\n",
       "      <td>10001</td>\n",
       "      <td>1942-7-1</td>\n",
       "      <td>1.016</td>\n",
       "      <td>NaN</td>\n",
       "      <td>25.555556</td>\n",
       "      <td>22.222222</td>\n",
       "      <td>23.888889</td>\n",
       "      <td>0.0</td>\n",
       "      <td>NaN</td>\n",
       "      <td>42</td>\n",
       "      <td>...</td>\n",
       "      <td>NaN</td>\n",
       "      <td>NaN</td>\n",
       "      <td>NaN</td>\n",
       "      <td>NaN</td>\n",
       "      <td>NaN</td>\n",
       "      <td>NaN</td>\n",
       "      <td>NaN</td>\n",
       "      <td>NaN</td>\n",
       "      <td>NaN</td>\n",
       "      <td>NaN</td>\n",
       "    </tr>\n",
       "    <tr>\n",
       "      <th>1</th>\n",
       "      <td>10001</td>\n",
       "      <td>1942-7-2</td>\n",
       "      <td>0</td>\n",
       "      <td>NaN</td>\n",
       "      <td>28.888889</td>\n",
       "      <td>21.666667</td>\n",
       "      <td>25.555556</td>\n",
       "      <td>0.0</td>\n",
       "      <td>NaN</td>\n",
       "      <td>42</td>\n",
       "      <td>...</td>\n",
       "      <td>NaN</td>\n",
       "      <td>NaN</td>\n",
       "      <td>NaN</td>\n",
       "      <td>NaN</td>\n",
       "      <td>NaN</td>\n",
       "      <td>NaN</td>\n",
       "      <td>NaN</td>\n",
       "      <td>NaN</td>\n",
       "      <td>NaN</td>\n",
       "      <td>NaN</td>\n",
       "    </tr>\n",
       "    <tr>\n",
       "      <th>2</th>\n",
       "      <td>10001</td>\n",
       "      <td>1942-7-3</td>\n",
       "      <td>2.54</td>\n",
       "      <td>NaN</td>\n",
       "      <td>26.111111</td>\n",
       "      <td>22.222222</td>\n",
       "      <td>24.444444</td>\n",
       "      <td>0.0</td>\n",
       "      <td>NaN</td>\n",
       "      <td>42</td>\n",
       "      <td>...</td>\n",
       "      <td>NaN</td>\n",
       "      <td>NaN</td>\n",
       "      <td>NaN</td>\n",
       "      <td>NaN</td>\n",
       "      <td>NaN</td>\n",
       "      <td>NaN</td>\n",
       "      <td>NaN</td>\n",
       "      <td>NaN</td>\n",
       "      <td>NaN</td>\n",
       "      <td>NaN</td>\n",
       "    </tr>\n",
       "    <tr>\n",
       "      <th>3</th>\n",
       "      <td>10001</td>\n",
       "      <td>1942-7-4</td>\n",
       "      <td>2.54</td>\n",
       "      <td>NaN</td>\n",
       "      <td>26.666667</td>\n",
       "      <td>22.222222</td>\n",
       "      <td>24.444444</td>\n",
       "      <td>0.0</td>\n",
       "      <td>NaN</td>\n",
       "      <td>42</td>\n",
       "      <td>...</td>\n",
       "      <td>NaN</td>\n",
       "      <td>NaN</td>\n",
       "      <td>NaN</td>\n",
       "      <td>NaN</td>\n",
       "      <td>NaN</td>\n",
       "      <td>NaN</td>\n",
       "      <td>NaN</td>\n",
       "      <td>NaN</td>\n",
       "      <td>NaN</td>\n",
       "      <td>NaN</td>\n",
       "    </tr>\n",
       "    <tr>\n",
       "      <th>4</th>\n",
       "      <td>10001</td>\n",
       "      <td>1942-7-5</td>\n",
       "      <td>0</td>\n",
       "      <td>NaN</td>\n",
       "      <td>26.666667</td>\n",
       "      <td>21.666667</td>\n",
       "      <td>24.444444</td>\n",
       "      <td>0.0</td>\n",
       "      <td>NaN</td>\n",
       "      <td>42</td>\n",
       "      <td>...</td>\n",
       "      <td>NaN</td>\n",
       "      <td>NaN</td>\n",
       "      <td>NaN</td>\n",
       "      <td>NaN</td>\n",
       "      <td>NaN</td>\n",
       "      <td>NaN</td>\n",
       "      <td>NaN</td>\n",
       "      <td>NaN</td>\n",
       "      <td>NaN</td>\n",
       "      <td>NaN</td>\n",
       "    </tr>\n",
       "    <tr>\n",
       "      <th>...</th>\n",
       "      <td>...</td>\n",
       "      <td>...</td>\n",
       "      <td>...</td>\n",
       "      <td>...</td>\n",
       "      <td>...</td>\n",
       "      <td>...</td>\n",
       "      <td>...</td>\n",
       "      <td>...</td>\n",
       "      <td>...</td>\n",
       "      <td>...</td>\n",
       "      <td>...</td>\n",
       "      <td>...</td>\n",
       "      <td>...</td>\n",
       "      <td>...</td>\n",
       "      <td>...</td>\n",
       "      <td>...</td>\n",
       "      <td>...</td>\n",
       "      <td>...</td>\n",
       "      <td>...</td>\n",
       "      <td>...</td>\n",
       "      <td>...</td>\n",
       "    </tr>\n",
       "    <tr>\n",
       "      <th>119035</th>\n",
       "      <td>82506</td>\n",
       "      <td>1945-12-27</td>\n",
       "      <td>0</td>\n",
       "      <td>NaN</td>\n",
       "      <td>28.333333</td>\n",
       "      <td>18.333333</td>\n",
       "      <td>23.333333</td>\n",
       "      <td>0.0</td>\n",
       "      <td>NaN</td>\n",
       "      <td>45</td>\n",
       "      <td>...</td>\n",
       "      <td>NaN</td>\n",
       "      <td>NaN</td>\n",
       "      <td>NaN</td>\n",
       "      <td>NaN</td>\n",
       "      <td>NaN</td>\n",
       "      <td>NaN</td>\n",
       "      <td>NaN</td>\n",
       "      <td>NaN</td>\n",
       "      <td>NaN</td>\n",
       "      <td>NaN</td>\n",
       "    </tr>\n",
       "    <tr>\n",
       "      <th>119036</th>\n",
       "      <td>82506</td>\n",
       "      <td>1945-12-28</td>\n",
       "      <td>9.906</td>\n",
       "      <td>NaN</td>\n",
       "      <td>29.444444</td>\n",
       "      <td>18.333333</td>\n",
       "      <td>23.888889</td>\n",
       "      <td>0.0</td>\n",
       "      <td>1.0</td>\n",
       "      <td>45</td>\n",
       "      <td>...</td>\n",
       "      <td>NaN</td>\n",
       "      <td>NaN</td>\n",
       "      <td>NaN</td>\n",
       "      <td>NaN</td>\n",
       "      <td>1.0</td>\n",
       "      <td>NaN</td>\n",
       "      <td>NaN</td>\n",
       "      <td>NaN</td>\n",
       "      <td>NaN</td>\n",
       "      <td>NaN</td>\n",
       "    </tr>\n",
       "    <tr>\n",
       "      <th>119037</th>\n",
       "      <td>82506</td>\n",
       "      <td>1945-12-29</td>\n",
       "      <td>0</td>\n",
       "      <td>NaN</td>\n",
       "      <td>28.333333</td>\n",
       "      <td>18.333333</td>\n",
       "      <td>23.333333</td>\n",
       "      <td>0.0</td>\n",
       "      <td>1.0</td>\n",
       "      <td>45</td>\n",
       "      <td>...</td>\n",
       "      <td>NaN</td>\n",
       "      <td>NaN</td>\n",
       "      <td>NaN</td>\n",
       "      <td>NaN</td>\n",
       "      <td>1.0</td>\n",
       "      <td>NaN</td>\n",
       "      <td>NaN</td>\n",
       "      <td>NaN</td>\n",
       "      <td>NaN</td>\n",
       "      <td>NaN</td>\n",
       "    </tr>\n",
       "    <tr>\n",
       "      <th>119038</th>\n",
       "      <td>82506</td>\n",
       "      <td>1945-12-30</td>\n",
       "      <td>0</td>\n",
       "      <td>NaN</td>\n",
       "      <td>28.333333</td>\n",
       "      <td>18.333333</td>\n",
       "      <td>23.333333</td>\n",
       "      <td>0.0</td>\n",
       "      <td>NaN</td>\n",
       "      <td>45</td>\n",
       "      <td>...</td>\n",
       "      <td>NaN</td>\n",
       "      <td>NaN</td>\n",
       "      <td>NaN</td>\n",
       "      <td>NaN</td>\n",
       "      <td>NaN</td>\n",
       "      <td>NaN</td>\n",
       "      <td>NaN</td>\n",
       "      <td>NaN</td>\n",
       "      <td>NaN</td>\n",
       "      <td>NaN</td>\n",
       "    </tr>\n",
       "    <tr>\n",
       "      <th>119039</th>\n",
       "      <td>82506</td>\n",
       "      <td>1945-12-31</td>\n",
       "      <td>0</td>\n",
       "      <td>NaN</td>\n",
       "      <td>29.444444</td>\n",
       "      <td>17.222222</td>\n",
       "      <td>23.333333</td>\n",
       "      <td>0.0</td>\n",
       "      <td>NaN</td>\n",
       "      <td>45</td>\n",
       "      <td>...</td>\n",
       "      <td>NaN</td>\n",
       "      <td>NaN</td>\n",
       "      <td>NaN</td>\n",
       "      <td>NaN</td>\n",
       "      <td>NaN</td>\n",
       "      <td>NaN</td>\n",
       "      <td>NaN</td>\n",
       "      <td>NaN</td>\n",
       "      <td>NaN</td>\n",
       "      <td>NaN</td>\n",
       "    </tr>\n",
       "  </tbody>\n",
       "</table>\n",
       "<p>119040 rows × 31 columns</p>\n",
       "</div>"
      ],
      "text/plain": [
       "          STA        Date Precip  WindGustSpd    MaxTemp    MinTemp  \\\n",
       "0       10001    1942-7-1  1.016          NaN  25.555556  22.222222   \n",
       "1       10001    1942-7-2      0          NaN  28.888889  21.666667   \n",
       "2       10001    1942-7-3   2.54          NaN  26.111111  22.222222   \n",
       "3       10001    1942-7-4   2.54          NaN  26.666667  22.222222   \n",
       "4       10001    1942-7-5      0          NaN  26.666667  21.666667   \n",
       "...       ...         ...    ...          ...        ...        ...   \n",
       "119035  82506  1945-12-27      0          NaN  28.333333  18.333333   \n",
       "119036  82506  1945-12-28  9.906          NaN  29.444444  18.333333   \n",
       "119037  82506  1945-12-29      0          NaN  28.333333  18.333333   \n",
       "119038  82506  1945-12-30      0          NaN  28.333333  18.333333   \n",
       "119039  82506  1945-12-31      0          NaN  29.444444  17.222222   \n",
       "\n",
       "         MeanTemp Snowfall PoorWeather  YR  ...  FB  FTI ITH  PGT  TSHDSBRSGF  \\\n",
       "0       23.888889      0.0         NaN  42  ... NaN  NaN NaN  NaN         NaN   \n",
       "1       25.555556      0.0         NaN  42  ... NaN  NaN NaN  NaN         NaN   \n",
       "2       24.444444      0.0         NaN  42  ... NaN  NaN NaN  NaN         NaN   \n",
       "3       24.444444      0.0         NaN  42  ... NaN  NaN NaN  NaN         NaN   \n",
       "4       24.444444      0.0         NaN  42  ... NaN  NaN NaN  NaN         NaN   \n",
       "...           ...      ...         ...  ..  ...  ..  ...  ..  ...         ...   \n",
       "119035  23.333333      0.0         NaN  45  ... NaN  NaN NaN  NaN         NaN   \n",
       "119036  23.888889      0.0         1.0  45  ... NaN  NaN NaN  NaN         1.0   \n",
       "119037  23.333333      0.0         1.0  45  ... NaN  NaN NaN  NaN         1.0   \n",
       "119038  23.333333      0.0         NaN  45  ... NaN  NaN NaN  NaN         NaN   \n",
       "119039  23.333333      0.0         NaN  45  ... NaN  NaN NaN  NaN         NaN   \n",
       "\n",
       "        SD3  RHX  RHN RVG  WTE  \n",
       "0       NaN  NaN  NaN NaN  NaN  \n",
       "1       NaN  NaN  NaN NaN  NaN  \n",
       "2       NaN  NaN  NaN NaN  NaN  \n",
       "3       NaN  NaN  NaN NaN  NaN  \n",
       "4       NaN  NaN  NaN NaN  NaN  \n",
       "...     ...  ...  ...  ..  ...  \n",
       "119035  NaN  NaN  NaN NaN  NaN  \n",
       "119036  NaN  NaN  NaN NaN  NaN  \n",
       "119037  NaN  NaN  NaN NaN  NaN  \n",
       "119038  NaN  NaN  NaN NaN  NaN  \n",
       "119039  NaN  NaN  NaN NaN  NaN  \n",
       "\n",
       "[119040 rows x 31 columns]"
      ]
     },
     "execution_count": 4,
     "metadata": {},
     "output_type": "execute_result"
    }
   ],
   "source": [
    "dataset\n",
    "# we'll be using the MinTemp and MaxTemp columns in this datset\n",
    "# we'll use the max temp to try and predict the min temp (we already have the minTemp values, this is for training).\n",
    "# we'll train our ML model to look at all 119040  rows and learn the relationship between the MINTEMP and MAXTEMP columns -> This is called TRAINING our model\n",
    "# once it understands this relationship, if given a new maxTemp value, it should be able to predit the minTemp from this.\n",
    "\n",
    "\n",
    "# We section off the data, & take Approx 80% (can be any value but this is the most populaar split) (with this split, the Model has a lot of data to test with, and a good amount of data to test with) of it for TRAINING. The remaining Approx 20% of the data is used for TESTING the ML model, to check that it is making correct predictions.\n",
    "# For this TESTING data, we will NOT give it the MinTemp, only the Max Temp. (WE KNOW THE MINTEMP but THE ML MODEL DOES NOT) (he mintemp needs to be HIDDEN, so  that the ML model can predit it not copy it).\n",
    "# We ask the ML model to make its predictions of the MinTemp data from the MaxTemp in the TESTING set. \n",
    "# We then compare the ML models' predictions to the real values that were hidden, and check the closeness of the values. If the values are close, then the ML models' predictions are ACCURATE."
   ]
  },
  {
   "cell_type": "code",
   "execution_count": 5,
   "metadata": {
    "colab": {
     "base_uri": "https://localhost:8080/",
     "height": 295
    },
    "id": "FTqJgkTt_Mk8",
    "outputId": "3a4dce16-1a0c-4dbb-e698-427f7d36a92a"
   },
   "outputs": [
    {
     "data": {
      "image/png": "[encoded data removed]",
      "text/plain": [
       "<Figure size 432x288 with 1 Axes>"
      ]
     },
     "metadata": {
      "needs_background": "light"
     },
     "output_type": "display_data"
    }
   ],
   "source": [
    "# PLOT THE DATA TO of MaxTemp against MinTemp to GIVE A GRAPH\n",
    "plt.scatter(dataset[\"MaxTemp\"], dataset[\"MinTemp\"])\n",
    "\n",
    "plt.title(\"Maximum Temperature vs Minimum Temperature\")\n",
    "plt.xlabel(\"Maximum Temperature\")\n",
    "plt.ylabel(\"Minimum Temperature\")\n",
    "plt.show()\n",
    "\n",
    "# We can see that as the minTemp increases, the maxTemp increases -> there is a positive correlation b/w them BUT there are some outliers so we can't expect 100% accuracy from our ML model"
   ]
  },
  {
   "cell_type": "code",
   "execution_count": 6,
   "metadata": {
    "id": "fgJ7I10SCG_l"
   },
   "outputs": [],
   "source": [
    "# .reshape takes the column and turns it into an array\n",
    "# Getting our dependent and independent variables and reshaping them so we can use test_train_split\n",
    "# check why minus one\n",
    "x = dataset[\"MaxTemp\"].values.reshape(-1,1)\n",
    "y = dataset[\"MinTemp\"].values.reshape(-1,1)"
   ]
  },
  {
   "cell_type": "code",
   "execution_count": 7,
   "metadata": {
    "id": "65Hn_EX9Devh"
   },
   "outputs": [],
   "source": [
    "# X_train = the Max_Temp Training set values\n",
    "# Y_train = the Min_Temp Training set values\n",
    "# X_test = the Max_Temp Testing set values that we will use to try predict Y_test (Min_Temp values)\n",
    "# Y_test = the min_temp values that the ML will predict from X_test\n",
    "\n",
    "# splitting data into training and testing sets AUTOMATICALLY AS 80% for training and 20% for testing\n",
    "# so 80% of Max_Temp values for training & the corresponding 80% MinTemp values for training\n",
    "# and the rest 20% Max_Temp values for tedsting & the corresponding 20% MinTemp values for testing\n",
    "X_train, X_test, Y_train, Y_test = train_test_split(x, y)"
   ]
  },
  {
   "cell_type": "code",
   "execution_count": 8,
   "metadata": {
    "colab": {
     "base_uri": "https://localhost:8080/"
    },
    "id": "SNHSvHJEEyfy",
    "outputId": "0184a585-033b-4803-bd0c-4e0d25ed5d87"
   },
   "outputs": [
    {
     "data": {
      "text/plain": [
       "array([[28.88888889],\n",
       "       [24.44444444],\n",
       "       [28.88888889],\n",
       "       ...,\n",
       "       [29.44444444],\n",
       "       [28.33333333],\n",
       "       [29.44444444]])"
      ]
     },
     "execution_count": 8,
     "metadata": {},
     "output_type": "execute_result"
    }
   ],
   "source": [
    "X_train"
   ]
  },
  {
   "cell_type": "code",
   "execution_count": 9,
   "metadata": {
    "colab": {
     "base_uri": "https://localhost:8080/"
    },
    "id": "4eNDJaHJFvQL",
    "outputId": "5c863a83-dad9-4527-b686-b87cefa597d6"
   },
   "outputs": [
    {
     "data": {
      "text/plain": [
       "array([[22.77777778],\n",
       "       [21.11111111],\n",
       "       [23.33333333],\n",
       "       ...,\n",
       "       [23.33333333],\n",
       "       [17.77777778],\n",
       "       [13.88888889]])"
      ]
     },
     "execution_count": 9,
     "metadata": {},
     "output_type": "execute_result"
    }
   ],
   "source": [
    "Y_train"
   ]
  },
  {
   "cell_type": "code",
   "execution_count": 10,
   "metadata": {
    "id": "hExdyv0rFwzL"
   },
   "outputs": [],
   "source": [
    "# Training our ML model\n",
    "# In the training set, the ML model has a look at the maxTemp and minTemp for each row, and tries to find a relationship.\n",
    "\n",
    "# fitting the linear regression model to our training data\n",
    "# xtrain = maxtemp ytrain = mintemp\n",
    "# this is a simple example, so the model is trained very quickly. In some casse the training could take overnight.\n",
    "model = LinearRegression().fit(X_train, Y_train)"
   ]
  },
  {
   "cell_type": "code",
   "execution_count": 11,
   "metadata": {
    "id": "w4TP-wsizpe5"
   },
   "outputs": [],
   "source": [
    "# .score() will score our model and see how well it is making predictions on the TEST set.\n",
    "# once the ML model has made predictions (on what minTemp is), the .score() will compare theses predictions to the ACTUAL values (of minTemp), that we know"
   ]
  },
  {
   "cell_type": "code",
   "execution_count": 12,
   "metadata": {
    "id": "0TMA5z_82Egn"
   },
   "outputs": [],
   "source": [
    "# make predictions of the minTemp values from the TEST SET maxTemp values\n",
    "y_prediction = model.predict(X_test)"
   ]
  },
  {
   "cell_type": "code",
   "execution_count": 13,
   "metadata": {
    "colab": {
     "base_uri": "https://localhost:8080/"
    },
    "id": "k1E5eHRV2Iay",
    "outputId": "0723af8c-df44-4a53-d980-b239a1309ba5"
   },
   "outputs": [
    {
     "data": {
      "text/plain": [
       "array([[16.53909909],\n",
       "       [ 4.89408189],\n",
       "       [21.19710596],\n",
       "       ...,\n",
       "       [23.99191008],\n",
       "       [17.47070046],\n",
       "       [23.06030871]])"
      ]
     },
     "execution_count": 13,
     "metadata": {},
     "output_type": "execute_result"
    }
   ],
   "source": [
    "y_prediction"
   ]
  },
  {
   "cell_type": "code",
   "execution_count": 14,
   "metadata": {
    "colab": {
     "base_uri": "https://localhost:8080/"
    },
    "id": "4tApb-mY2aKw",
    "outputId": "d663d7c2-bb71-4013-c272-88acda4ad390"
   },
   "outputs": [
    {
     "data": {
      "text/plain": [
       "array([[20.55555556],\n",
       "       [ 6.11111111],\n",
       "       [26.11111111],\n",
       "       ...,\n",
       "       [27.22222222],\n",
       "       [20.        ],\n",
       "       [20.        ]])"
      ]
     },
     "execution_count": 14,
     "metadata": {},
     "output_type": "execute_result"
    }
   ],
   "source": [
    "Y_test"
   ]
  },
  {
   "cell_type": "code",
   "execution_count": 15,
   "metadata": {
    "id": "-d-0OvTf2pPa"
   },
   "outputs": [],
   "source": [
    "# score() takes in data given in 1st parameter (X_TEST)(MAXTEMP), uses the MODEL (we named this model) \n",
    "# to predict YVALUES (MINTEMP) and compares these predictions to the values in the 2nd parameter (Y_TEST) (MINTEMP)\n",
    "model_accuracy = model.score(X_test, Y_test)"
   ]
  },
  {
   "cell_type": "code",
   "execution_count": 16,
   "metadata": {
    "colab": {
     "base_uri": "https://localhost:8080/"
    },
    "id": "my_Of3v83wUB",
    "outputId": "0e80abcd-4d7b-45f9-8725-5924964340ac"
   },
   "outputs": [
    {
     "name": "stdout",
     "output_type": "stream",
     "text": [
      "0.7803697694156216\n"
     ]
    }
   ],
   "source": [
    "print(model_accuracy)\n",
    "# Our model has a 76.9% accuracy"
   ]
  },
  {
   "cell_type": "code",
   "execution_count": 17,
   "metadata": {
    "id": "0hydAko2320b"
   },
   "outputs": [],
   "source": [
    "# why we don't care about a TRAINING SET score\n",
    "# because in our training set, the ml model can look at BOTH columns aka, it has already seen the ANSWER aka it has already seen the value we are trying to predict.\n",
    "# the ML model can see the answer, but is still making a prediction. This is why we do not care about a TRAINING SET score\n",
    "\n",
    "# for a testing set, the ML model makes a prediction FIRST before looking at the answer"
   ]
  },
  {
   "cell_type": "code",
   "execution_count": 18,
   "metadata": {
    "colab": {
     "base_uri": "https://localhost:8080/",
     "height": 295
    },
    "id": "EnSgtVO8879H",
    "outputId": "0d3642ae-14b5-46c2-abff-e9f493d6d083"
   },
   "outputs": [
    {
     "data": {
      "image/png": "[encoded data removed]",
      "text/plain": [
       "<Figure size 432x288 with 1 Axes>"
      ]
     },
     "metadata": {
      "needs_background": "light"
     },
     "output_type": "display_data"
    }
   ],
   "source": [
    "# Plotting a line of best fit\n",
    "# making a scatter graph of all our test data, then plot the prediction\n",
    "\n",
    "plt.scatter(X_test, Y_test)\n",
    "plt.plot(X_test, y_prediction, color=\"r\")\n",
    "plt.title(\"Maximum Temperature vs Minimum Temperature\")\n",
    "plt.xlabel(\"Maximum Temperature\")\n",
    "plt.ylabel(\"Minimum Temperature\")\n",
    "plt.show()\n",
    "\n",
    "# our predictions follow the trend, we can say the accuracy is pretty good"
   ]
  }
 ],
 "metadata": {
  "colab": {
   "collapsed_sections": [],
   "provenance": []
  },
  "kernelspec": {
   "display_name": "Python 3 (ipykernel)",
   "language": "python",
   "name": "python3"
  },
  "language_info": {
   "codemirror_mode": {
    "name": "ipython",
    "version": 3
   },
   "file_extension": ".py",
   "mimetype": "text/x-python",
   "name": "python",
   "nbconvert_exporter": "python",
   "pygments_lexer": "ipython3",
   "version": "3.9.7"
  }
 },
 "nbformat": 4,
 "nbformat_minor": 1
}
